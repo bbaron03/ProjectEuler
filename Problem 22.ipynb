{
 "cells": [
  {
   "cell_type": "markdown",
   "metadata": {},
   "source": [
    "### Using names.txt (right click and 'Save Link/Target As...'), a 46K text file containing over five-thousand first names, begin by sorting it into alphabetical order. Then working out the alphabetical value for each name, multiply this value by its alphabetical position in the list to obtain a name score.\n",
    "\n",
    "### For example, when the list is sorted into alphabetical order, COLIN, which is worth 3 + 15 + 12 + 9 + 14 = 53, is the 938th name in the list. So, COLIN would obtain a score of 938 × 53 = 49714.\n",
    "\n",
    "### What is the total of all the name scores in the file?"
   ]
  },
  {
   "cell_type": "code",
   "execution_count": 22,
   "metadata": {},
   "outputs": [
    {
     "name": "stdout",
     "output_type": "stream",
     "text": [
      "870873746 is the total of all the name scores in the file names.txt\n"
     ]
    }
   ],
   "source": [
    "def name_scores():\n",
    "    # Necessary lists\n",
    "    names = [] \n",
    "    sorted_names = []\n",
    "    points_per_name = []\n",
    "    total = 0\n",
    "    \n",
    "    # Dict of values for letters, to be used in name score algorithm\n",
    "    letters = {\"A\": 1,\"B\" : 2,\"C\" : 3,\"D\" : 4,\"E\" : 5,\"F\" : 6,\"G\" : 7,\n",
    "               \"H\" : 8,\"I\" : 9,\"J\" : 10,\"K\" : 11,\"L\" : 12,\"M\" : 13,\"N\" : 14,\n",
    "               \"O\" : 15,\"P\" : 16,\"Q\" : 17,\"R\" : 18,\"S\" : 19,\"T\" : 20,\"U\" : 21,\n",
    "               \"V\" : 22,\"W\" : 23,\"X\" : 24,\"Y\" : 25,\"Z\" : 26,            \n",
    "        }\n",
    "    with open(\"names.txt\", \"r\") as name_file: # Open the file and add the string of the list of names to an array\n",
    "        for line in name_file:\n",
    "            names.append(line)\n",
    "    \n",
    "    names = names[0].split(',')# The file is a string of strings, so we must split it into a list \n",
    "                               # singular names\n",
    "    \n",
    "    for name in names: # For each name, we must get rid of the double quotes surrounding them.\n",
    "        names[names.index(name)] = name.replace('\"',\"\")\n",
    "\n",
    "    sorted_names = sorted(names) # Sort the list of names in alphabetical order\n",
    "    \n",
    "    for i, name in enumerate(sorted_names):# Perform the name score algorithm and add it to the total.\n",
    "        name_points = 0\n",
    "        for letter in name:\n",
    "            name_points += letters[letter]\n",
    "        total += name_points * i\n",
    "        \n",
    "    print(\"{} is the total of all the name scores in the file names.txt\".format(total))\n",
    "    \n",
    "name_scores()\n",
    "    "
   ]
  },
  {
   "cell_type": "code",
   "execution_count": null,
   "metadata": {},
   "outputs": [],
   "source": []
  }
 ],
 "metadata": {
  "kernelspec": {
   "display_name": "Python 3",
   "language": "python",
   "name": "python3"
  },
  "language_info": {
   "codemirror_mode": {
    "name": "ipython",
    "version": 3
   },
   "file_extension": ".py",
   "mimetype": "text/x-python",
   "name": "python",
   "nbconvert_exporter": "python",
   "pygments_lexer": "ipython3",
   "version": "3.7.6"
  }
 },
 "nbformat": 4,
 "nbformat_minor": 4
}
