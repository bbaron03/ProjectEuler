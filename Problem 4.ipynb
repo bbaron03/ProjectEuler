{
 "cells": [
  {
   "cell_type": "markdown",
   "metadata": {},
   "source": [
    "### A palindromic number reads the same both ways. The largest palindrome made from the product of two 2-digit numbers is 9009 = 91 × 99.\n",
    "\n",
    "### Find the largest palindrome made from the product of two 3-digit numbers."
   ]
  },
  {
   "cell_type": "code",
   "execution_count": 1,
   "metadata": {},
   "outputs": [
    {
     "name": "stdout",
     "output_type": "stream",
     "text": [
      "906609 is the largest palindrome. Is the product of (913, 993)\n"
     ]
    }
   ],
   "source": [
    "def greatest_palindrome():\n",
    "    num_list = [i * j for i in range(1,1001) for j in range(1, 1001)] # Initialize a list of all products  \n",
    "    products = [(i,j) for i in range(1,1001) for j in range(1, 1001)] # Initialize a list of all pairs of numbers \n",
    "    sorted_num_list = sorted(num_list,reverse = True)\n",
    "    \n",
    "    for number in sorted_num_list: # Moving from highest product to lowest, determine the first palindrome\n",
    "        boolVal = True\n",
    "        string = str(number)\n",
    "        for i,letter in enumerate(string.lower()):\n",
    "            if(letter != string[-i-1]):\n",
    "                boolVal = False\n",
    "                \n",
    "        if boolVal: # Once first palindrome product has been found, end algorithm.\n",
    "            return '{} is the largest palindrome. Is the product of {}'.format(number, products[num_list.index(number)])\n",
    "\n",
    "        \n",
    "print(greatest_palindrome())"
   ]
  },
  {
   "cell_type": "code",
   "execution_count": null,
   "metadata": {},
   "outputs": [],
   "source": []
  }
 ],
 "metadata": {
  "kernelspec": {
   "display_name": "Python 3",
   "language": "python",
   "name": "python3"
  },
  "language_info": {
   "codemirror_mode": {
    "name": "ipython",
    "version": 3
   },
   "file_extension": ".py",
   "mimetype": "text/x-python",
   "name": "python",
   "nbconvert_exporter": "python",
   "pygments_lexer": "ipython3",
   "version": "3.7.6"
  }
 },
 "nbformat": 4,
 "nbformat_minor": 4
}
